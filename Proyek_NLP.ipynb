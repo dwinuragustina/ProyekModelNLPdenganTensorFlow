{
  "nbformat": 4,
  "nbformat_minor": 0,
  "metadata": {
    "colab": {
      "provenance": []
    },
    "kernelspec": {
      "name": "python3",
      "display_name": "Python 3"
    },
    "language_info": {
      "name": "python"
    }
  },
  "cells": [
    {
      "cell_type": "code",
      "source": [
        "# multiclass text classification\n",
        "from google.colab import drive\n",
        "drive.mount('/content/drive/')"
      ],
      "metadata": {
        "colab": {
          "base_uri": "https://localhost:8080/"
        },
        "id": "xGeoQJN6kJZu",
        "outputId": "32c26b0a-c003-4d60-cccb-65e889240c2d"
      },
      "execution_count": 22,
      "outputs": [
        {
          "output_type": "stream",
          "name": "stdout",
          "text": [
            "Drive already mounted at /content/drive/; to attempt to forcibly remount, call drive.mount(\"/content/drive/\", force_remount=True).\n"
          ]
        }
      ]
    },
    {
      "cell_type": "code",
      "source": [
        "# load dataset\n",
        "import pandas as pd\n",
        "df = pd.read_csv('/content/drive/MyDrive/Colab Notebooks/dicoding/review_film.csv')\n",
        "\n",
        "df"
      ],
      "metadata": {
        "colab": {
          "base_uri": "https://localhost:8080/",
          "height": 424
        },
        "id": "dNYvWffCkk4b",
        "outputId": "cdcbc780-da8e-4608-a3b5-72b9730d6afc"
      },
      "execution_count": 23,
      "outputs": [
        {
          "output_type": "execute_result",
          "data": {
            "text/plain": [
              "                                                    text sentiment\n",
              "0      Now, I won't deny that when I purchased this o...       neg\n",
              "1      The saddest thing about this \"tribute\" is that...       neg\n",
              "2      Last night I decided to watch the prequel or s...       neg\n",
              "3      I have to admit that i liked the first half of...       neg\n",
              "4      I was not impressed about this film especially...       neg\n",
              "...                                                  ...       ...\n",
              "24995  This film is fun, if your a person who likes a...       pos\n",
              "24996  After seeing this film I feel like I know just...       pos\n",
              "24997  first this deserves about 5 stars due to actin...       neg\n",
              "24998  If you like films that ramble with little plot...       neg\n",
              "24999  As interesting as a sheet of cardboard, this d...       neg\n",
              "\n",
              "[25000 rows x 2 columns]"
            ],
            "text/html": [
              "\n",
              "  <div id=\"df-5f063470-844d-49d8-8c3e-9cd273f1f4ae\">\n",
              "    <div class=\"colab-df-container\">\n",
              "      <div>\n",
              "<style scoped>\n",
              "    .dataframe tbody tr th:only-of-type {\n",
              "        vertical-align: middle;\n",
              "    }\n",
              "\n",
              "    .dataframe tbody tr th {\n",
              "        vertical-align: top;\n",
              "    }\n",
              "\n",
              "    .dataframe thead th {\n",
              "        text-align: right;\n",
              "    }\n",
              "</style>\n",
              "<table border=\"1\" class=\"dataframe\">\n",
              "  <thead>\n",
              "    <tr style=\"text-align: right;\">\n",
              "      <th></th>\n",
              "      <th>text</th>\n",
              "      <th>sentiment</th>\n",
              "    </tr>\n",
              "  </thead>\n",
              "  <tbody>\n",
              "    <tr>\n",
              "      <th>0</th>\n",
              "      <td>Now, I won't deny that when I purchased this o...</td>\n",
              "      <td>neg</td>\n",
              "    </tr>\n",
              "    <tr>\n",
              "      <th>1</th>\n",
              "      <td>The saddest thing about this \"tribute\" is that...</td>\n",
              "      <td>neg</td>\n",
              "    </tr>\n",
              "    <tr>\n",
              "      <th>2</th>\n",
              "      <td>Last night I decided to watch the prequel or s...</td>\n",
              "      <td>neg</td>\n",
              "    </tr>\n",
              "    <tr>\n",
              "      <th>3</th>\n",
              "      <td>I have to admit that i liked the first half of...</td>\n",
              "      <td>neg</td>\n",
              "    </tr>\n",
              "    <tr>\n",
              "      <th>4</th>\n",
              "      <td>I was not impressed about this film especially...</td>\n",
              "      <td>neg</td>\n",
              "    </tr>\n",
              "    <tr>\n",
              "      <th>...</th>\n",
              "      <td>...</td>\n",
              "      <td>...</td>\n",
              "    </tr>\n",
              "    <tr>\n",
              "      <th>24995</th>\n",
              "      <td>This film is fun, if your a person who likes a...</td>\n",
              "      <td>pos</td>\n",
              "    </tr>\n",
              "    <tr>\n",
              "      <th>24996</th>\n",
              "      <td>After seeing this film I feel like I know just...</td>\n",
              "      <td>pos</td>\n",
              "    </tr>\n",
              "    <tr>\n",
              "      <th>24997</th>\n",
              "      <td>first this deserves about 5 stars due to actin...</td>\n",
              "      <td>neg</td>\n",
              "    </tr>\n",
              "    <tr>\n",
              "      <th>24998</th>\n",
              "      <td>If you like films that ramble with little plot...</td>\n",
              "      <td>neg</td>\n",
              "    </tr>\n",
              "    <tr>\n",
              "      <th>24999</th>\n",
              "      <td>As interesting as a sheet of cardboard, this d...</td>\n",
              "      <td>neg</td>\n",
              "    </tr>\n",
              "  </tbody>\n",
              "</table>\n",
              "<p>25000 rows × 2 columns</p>\n",
              "</div>\n",
              "      <button class=\"colab-df-convert\" onclick=\"convertToInteractive('df-5f063470-844d-49d8-8c3e-9cd273f1f4ae')\"\n",
              "              title=\"Convert this dataframe to an interactive table.\"\n",
              "              style=\"display:none;\">\n",
              "        \n",
              "  <svg xmlns=\"http://www.w3.org/2000/svg\" height=\"24px\"viewBox=\"0 0 24 24\"\n",
              "       width=\"24px\">\n",
              "    <path d=\"M0 0h24v24H0V0z\" fill=\"none\"/>\n",
              "    <path d=\"M18.56 5.44l.94 2.06.94-2.06 2.06-.94-2.06-.94-.94-2.06-.94 2.06-2.06.94zm-11 1L8.5 8.5l.94-2.06 2.06-.94-2.06-.94L8.5 2.5l-.94 2.06-2.06.94zm10 10l.94 2.06.94-2.06 2.06-.94-2.06-.94-.94-2.06-.94 2.06-2.06.94z\"/><path d=\"M17.41 7.96l-1.37-1.37c-.4-.4-.92-.59-1.43-.59-.52 0-1.04.2-1.43.59L10.3 9.45l-7.72 7.72c-.78.78-.78 2.05 0 2.83L4 21.41c.39.39.9.59 1.41.59.51 0 1.02-.2 1.41-.59l7.78-7.78 2.81-2.81c.8-.78.8-2.07 0-2.86zM5.41 20L4 18.59l7.72-7.72 1.47 1.35L5.41 20z\"/>\n",
              "  </svg>\n",
              "      </button>\n",
              "      \n",
              "  <style>\n",
              "    .colab-df-container {\n",
              "      display:flex;\n",
              "      flex-wrap:wrap;\n",
              "      gap: 12px;\n",
              "    }\n",
              "\n",
              "    .colab-df-convert {\n",
              "      background-color: #E8F0FE;\n",
              "      border: none;\n",
              "      border-radius: 50%;\n",
              "      cursor: pointer;\n",
              "      display: none;\n",
              "      fill: #1967D2;\n",
              "      height: 32px;\n",
              "      padding: 0 0 0 0;\n",
              "      width: 32px;\n",
              "    }\n",
              "\n",
              "    .colab-df-convert:hover {\n",
              "      background-color: #E2EBFA;\n",
              "      box-shadow: 0px 1px 2px rgba(60, 64, 67, 0.3), 0px 1px 3px 1px rgba(60, 64, 67, 0.15);\n",
              "      fill: #174EA6;\n",
              "    }\n",
              "\n",
              "    [theme=dark] .colab-df-convert {\n",
              "      background-color: #3B4455;\n",
              "      fill: #D2E3FC;\n",
              "    }\n",
              "\n",
              "    [theme=dark] .colab-df-convert:hover {\n",
              "      background-color: #434B5C;\n",
              "      box-shadow: 0px 1px 3px 1px rgba(0, 0, 0, 0.15);\n",
              "      filter: drop-shadow(0px 1px 2px rgba(0, 0, 0, 0.3));\n",
              "      fill: #FFFFFF;\n",
              "    }\n",
              "  </style>\n",
              "\n",
              "      <script>\n",
              "        const buttonEl =\n",
              "          document.querySelector('#df-5f063470-844d-49d8-8c3e-9cd273f1f4ae button.colab-df-convert');\n",
              "        buttonEl.style.display =\n",
              "          google.colab.kernel.accessAllowed ? 'block' : 'none';\n",
              "\n",
              "        async function convertToInteractive(key) {\n",
              "          const element = document.querySelector('#df-5f063470-844d-49d8-8c3e-9cd273f1f4ae');\n",
              "          const dataTable =\n",
              "            await google.colab.kernel.invokeFunction('convertToInteractive',\n",
              "                                                     [key], {});\n",
              "          if (!dataTable) return;\n",
              "\n",
              "          const docLinkHtml = 'Like what you see? Visit the ' +\n",
              "            '<a target=\"_blank\" href=https://colab.research.google.com/notebooks/data_table.ipynb>data table notebook</a>'\n",
              "            + ' to learn more about interactive tables.';\n",
              "          element.innerHTML = '';\n",
              "          dataTable['output_type'] = 'display_data';\n",
              "          await google.colab.output.renderOutput(dataTable, element);\n",
              "          const docLink = document.createElement('div');\n",
              "          docLink.innerHTML = docLinkHtml;\n",
              "          element.appendChild(docLink);\n",
              "        }\n",
              "      </script>\n",
              "    </div>\n",
              "  </div>\n",
              "  "
            ]
          },
          "metadata": {},
          "execution_count": 23
        }
      ]
    },
    {
      "cell_type": "code",
      "source": [
        "import tensorflow as tf\n",
        "\n",
        "class myCallback(tf.keras.callbacks.Callback):\n",
        "  def on_epoch_end(self, epoch, logs={}):\n",
        "    if(logs.get('accuracy') > 0.95):\n",
        "      print(\"\\nTraning data berhenti, tingkat akurasi > 95%\")\n",
        "      self.model.stop_training = True\n",
        "\n",
        "callbacks = myCallback()"
      ],
      "metadata": {
        "id": "2i2P2AzC2wEg"
      },
      "execution_count": 24,
      "outputs": []
    },
    {
      "cell_type": "code",
      "source": [
        "# encoding\n",
        "cat = pd.get_dummies(df.sentiment)\n",
        "df = pd.concat([df, cat], axis = 1)\n",
        "df = df.drop(columns = 'sentiment')\n",
        "\n",
        "df"
      ],
      "metadata": {
        "colab": {
          "base_uri": "https://localhost:8080/",
          "height": 424
        },
        "id": "kpZ7jSKp4Dgj",
        "outputId": "a258cf31-985f-44ee-b2f4-b30b544e3272"
      },
      "execution_count": 25,
      "outputs": [
        {
          "output_type": "execute_result",
          "data": {
            "text/plain": [
              "                                                    text  neg  pos\n",
              "0      Now, I won't deny that when I purchased this o...    1    0\n",
              "1      The saddest thing about this \"tribute\" is that...    1    0\n",
              "2      Last night I decided to watch the prequel or s...    1    0\n",
              "3      I have to admit that i liked the first half of...    1    0\n",
              "4      I was not impressed about this film especially...    1    0\n",
              "...                                                  ...  ...  ...\n",
              "24995  This film is fun, if your a person who likes a...    0    1\n",
              "24996  After seeing this film I feel like I know just...    0    1\n",
              "24997  first this deserves about 5 stars due to actin...    1    0\n",
              "24998  If you like films that ramble with little plot...    1    0\n",
              "24999  As interesting as a sheet of cardboard, this d...    1    0\n",
              "\n",
              "[25000 rows x 3 columns]"
            ],
            "text/html": [
              "\n",
              "  <div id=\"df-428ecaa2-938c-4485-b739-374b6dd72942\">\n",
              "    <div class=\"colab-df-container\">\n",
              "      <div>\n",
              "<style scoped>\n",
              "    .dataframe tbody tr th:only-of-type {\n",
              "        vertical-align: middle;\n",
              "    }\n",
              "\n",
              "    .dataframe tbody tr th {\n",
              "        vertical-align: top;\n",
              "    }\n",
              "\n",
              "    .dataframe thead th {\n",
              "        text-align: right;\n",
              "    }\n",
              "</style>\n",
              "<table border=\"1\" class=\"dataframe\">\n",
              "  <thead>\n",
              "    <tr style=\"text-align: right;\">\n",
              "      <th></th>\n",
              "      <th>text</th>\n",
              "      <th>neg</th>\n",
              "      <th>pos</th>\n",
              "    </tr>\n",
              "  </thead>\n",
              "  <tbody>\n",
              "    <tr>\n",
              "      <th>0</th>\n",
              "      <td>Now, I won't deny that when I purchased this o...</td>\n",
              "      <td>1</td>\n",
              "      <td>0</td>\n",
              "    </tr>\n",
              "    <tr>\n",
              "      <th>1</th>\n",
              "      <td>The saddest thing about this \"tribute\" is that...</td>\n",
              "      <td>1</td>\n",
              "      <td>0</td>\n",
              "    </tr>\n",
              "    <tr>\n",
              "      <th>2</th>\n",
              "      <td>Last night I decided to watch the prequel or s...</td>\n",
              "      <td>1</td>\n",
              "      <td>0</td>\n",
              "    </tr>\n",
              "    <tr>\n",
              "      <th>3</th>\n",
              "      <td>I have to admit that i liked the first half of...</td>\n",
              "      <td>1</td>\n",
              "      <td>0</td>\n",
              "    </tr>\n",
              "    <tr>\n",
              "      <th>4</th>\n",
              "      <td>I was not impressed about this film especially...</td>\n",
              "      <td>1</td>\n",
              "      <td>0</td>\n",
              "    </tr>\n",
              "    <tr>\n",
              "      <th>...</th>\n",
              "      <td>...</td>\n",
              "      <td>...</td>\n",
              "      <td>...</td>\n",
              "    </tr>\n",
              "    <tr>\n",
              "      <th>24995</th>\n",
              "      <td>This film is fun, if your a person who likes a...</td>\n",
              "      <td>0</td>\n",
              "      <td>1</td>\n",
              "    </tr>\n",
              "    <tr>\n",
              "      <th>24996</th>\n",
              "      <td>After seeing this film I feel like I know just...</td>\n",
              "      <td>0</td>\n",
              "      <td>1</td>\n",
              "    </tr>\n",
              "    <tr>\n",
              "      <th>24997</th>\n",
              "      <td>first this deserves about 5 stars due to actin...</td>\n",
              "      <td>1</td>\n",
              "      <td>0</td>\n",
              "    </tr>\n",
              "    <tr>\n",
              "      <th>24998</th>\n",
              "      <td>If you like films that ramble with little plot...</td>\n",
              "      <td>1</td>\n",
              "      <td>0</td>\n",
              "    </tr>\n",
              "    <tr>\n",
              "      <th>24999</th>\n",
              "      <td>As interesting as a sheet of cardboard, this d...</td>\n",
              "      <td>1</td>\n",
              "      <td>0</td>\n",
              "    </tr>\n",
              "  </tbody>\n",
              "</table>\n",
              "<p>25000 rows × 3 columns</p>\n",
              "</div>\n",
              "      <button class=\"colab-df-convert\" onclick=\"convertToInteractive('df-428ecaa2-938c-4485-b739-374b6dd72942')\"\n",
              "              title=\"Convert this dataframe to an interactive table.\"\n",
              "              style=\"display:none;\">\n",
              "        \n",
              "  <svg xmlns=\"http://www.w3.org/2000/svg\" height=\"24px\"viewBox=\"0 0 24 24\"\n",
              "       width=\"24px\">\n",
              "    <path d=\"M0 0h24v24H0V0z\" fill=\"none\"/>\n",
              "    <path d=\"M18.56 5.44l.94 2.06.94-2.06 2.06-.94-2.06-.94-.94-2.06-.94 2.06-2.06.94zm-11 1L8.5 8.5l.94-2.06 2.06-.94-2.06-.94L8.5 2.5l-.94 2.06-2.06.94zm10 10l.94 2.06.94-2.06 2.06-.94-2.06-.94-.94-2.06-.94 2.06-2.06.94z\"/><path d=\"M17.41 7.96l-1.37-1.37c-.4-.4-.92-.59-1.43-.59-.52 0-1.04.2-1.43.59L10.3 9.45l-7.72 7.72c-.78.78-.78 2.05 0 2.83L4 21.41c.39.39.9.59 1.41.59.51 0 1.02-.2 1.41-.59l7.78-7.78 2.81-2.81c.8-.78.8-2.07 0-2.86zM5.41 20L4 18.59l7.72-7.72 1.47 1.35L5.41 20z\"/>\n",
              "  </svg>\n",
              "      </button>\n",
              "      \n",
              "  <style>\n",
              "    .colab-df-container {\n",
              "      display:flex;\n",
              "      flex-wrap:wrap;\n",
              "      gap: 12px;\n",
              "    }\n",
              "\n",
              "    .colab-df-convert {\n",
              "      background-color: #E8F0FE;\n",
              "      border: none;\n",
              "      border-radius: 50%;\n",
              "      cursor: pointer;\n",
              "      display: none;\n",
              "      fill: #1967D2;\n",
              "      height: 32px;\n",
              "      padding: 0 0 0 0;\n",
              "      width: 32px;\n",
              "    }\n",
              "\n",
              "    .colab-df-convert:hover {\n",
              "      background-color: #E2EBFA;\n",
              "      box-shadow: 0px 1px 2px rgba(60, 64, 67, 0.3), 0px 1px 3px 1px rgba(60, 64, 67, 0.15);\n",
              "      fill: #174EA6;\n",
              "    }\n",
              "\n",
              "    [theme=dark] .colab-df-convert {\n",
              "      background-color: #3B4455;\n",
              "      fill: #D2E3FC;\n",
              "    }\n",
              "\n",
              "    [theme=dark] .colab-df-convert:hover {\n",
              "      background-color: #434B5C;\n",
              "      box-shadow: 0px 1px 3px 1px rgba(0, 0, 0, 0.15);\n",
              "      filter: drop-shadow(0px 1px 2px rgba(0, 0, 0, 0.3));\n",
              "      fill: #FFFFFF;\n",
              "    }\n",
              "  </style>\n",
              "\n",
              "      <script>\n",
              "        const buttonEl =\n",
              "          document.querySelector('#df-428ecaa2-938c-4485-b739-374b6dd72942 button.colab-df-convert');\n",
              "        buttonEl.style.display =\n",
              "          google.colab.kernel.accessAllowed ? 'block' : 'none';\n",
              "\n",
              "        async function convertToInteractive(key) {\n",
              "          const element = document.querySelector('#df-428ecaa2-938c-4485-b739-374b6dd72942');\n",
              "          const dataTable =\n",
              "            await google.colab.kernel.invokeFunction('convertToInteractive',\n",
              "                                                     [key], {});\n",
              "          if (!dataTable) return;\n",
              "\n",
              "          const docLinkHtml = 'Like what you see? Visit the ' +\n",
              "            '<a target=\"_blank\" href=https://colab.research.google.com/notebooks/data_table.ipynb>data table notebook</a>'\n",
              "            + ' to learn more about interactive tables.';\n",
              "          element.innerHTML = '';\n",
              "          dataTable['output_type'] = 'display_data';\n",
              "          await google.colab.output.renderOutput(dataTable, element);\n",
              "          const docLink = document.createElement('div');\n",
              "          docLink.innerHTML = docLinkHtml;\n",
              "          element.appendChild(docLink);\n",
              "        }\n",
              "      </script>\n",
              "    </div>\n",
              "  </div>\n",
              "  "
            ]
          },
          "metadata": {},
          "execution_count": 25
        }
      ]
    },
    {
      "cell_type": "code",
      "source": [
        "# split dataframe\n",
        "review = df['text'].values\n",
        "label = df[['neg', 'pos']].values\n",
        "\n",
        "review"
      ],
      "metadata": {
        "colab": {
          "base_uri": "https://localhost:8080/"
        },
        "id": "2maOZ0Sd4lUY",
        "outputId": "141cee0a-cccf-4125-8f9e-2e7472d77f5c"
      },
      "execution_count": 26,
      "outputs": [
        {
          "output_type": "execute_result",
          "data": {
            "text/plain": [
              "array([\"Now, I won't deny that when I purchased this off eBay, I had high expectations. This was an incredible out-of-print work from the master of comedy that I so enjoy. However, I was soon to be disappointed. Apologies to those who enjoyed it, but I just found the Compleat Al to be very difficult to watch. I got a few smiles, sure, but the majority of the funny came from the music videos (which I've got on DVD) and the rest was basically filler. You could tell that this was not Al's greatest video achievement (that honor goes to UHF). Honestly, I doubt if this will ever make the jump to DVD, so if you're an ultra-hardcore Al fan and just HAVE to own everything, buy the tape off eBay. Just don't pay too much for it.\",\n",
              "       'The saddest thing about this \"tribute\" is that almost all the singers (including the otherwise incredibly talented Nick Cave) seem to have missed the whole point where Cohen\\'s intensity lies: by delivering his lines in an almost tuneless poise, Cohen transmits the full extent of his poetry, his irony, his all-round humanity, laughter and tears in one.<br /><br />To see some of these singer upstarts make convoluted suffering faces, launch their pathetic squeals in the patent effort to scream \"I\\'m a singer!,\" is a true pain. It\\'s the same feeling many of you probably had listening in to some horrendous operatic versions of simple songs such as Lennon\\'s \"Imagine.\" Nothing, simply nothing gets close to the simplicity and directness of the original. If there is a form of art that doesn\\'t need embellishments, it\\'s Cohen\\'s art. Embellishments cast it in the street looking like the tasteless make-up of sex for sale.<br /><br />In this Cohen\\'s tribute I found myself suffering and suffering through pitiful tributes and awful reinterpretations, all of them entirely lacking the original irony of the master and, if truth be told, several of these singers sounded as if they had been recruited at some asylum talent show. It\\'s Cohen doing a tribute to them by letting them sing his material, really, not the other way around: they may have been friends, or his daughter\\'s, he could have become very tender-hearted and in the mood for a gift. Too bad it didn\\'t stay in the family.<br /><br />Fortunately, but only at the very end, Cohen himself performed his majestic \"Tower of Song,\" but even that flower was spoiled by the totally incongruous background of the U2, all of them carrying the expression that bored kids have when they visit their poor grandpa at the nursing home.<br /><br />A sad show, really, and sadder if you truly love Cohen as I do.',\n",
              "       'Last night I decided to watch the prequel or shall I say the so called prequel to Carlito\\'s Way - \"Carlito\\'s Way: Rise to Power (2005)\" which went straight to DVD...no wonder .....it completely ...and I mean completely S%&KS !!! waist of time watching it and I think it would be a pure waist of time writing about it.... I don\\'t understand how De Palma agreed on producing this sh#t-fest of a movie....except for only one fact that I tip my hat to... Jay Hernandez who plays the young Brigante.... reminded me how De Niro got into the shoes of Brando to portray the young Don Corleone in Godfather II ...but the difference De Niro was amazing and even got an Oscar for it !!! Jay Hernandez well he has guts for trying to be a young Pacino.... too bad for him I don\\'t think he will be playing in film anymore and by the way after I watched this sh#$%ty movie, I sat down and watched the original Carlitos way to get the bad taste out of my mouth.',\n",
              "       ...,\n",
              "       'first this deserves about 5 stars due to acting (some which would give me a better subjective opinion and NOT an objective one as it should by giving this one, WELL DESERVED, star) but then i know that those facts are used for the actor(S) NAMES to increase the rating of something like this...<br /><br />i do have a problem with such productions; yet another attempt (just like \"untraceable\") of a systematic propagandistic feature promoting government intrusion on your rights( how interesting that it comes at a moment when IPS providers trying to \"preferentiate\" = CENSOR information, and the Americans and Canadians are fighting AGAINST that at this very moments). this time is not by labeling torrent file transfers as evil ( that one was intended to remind you of such feeling whenever you transfer data on the net), but by literally attempting in creating a sexual frustrated population as a whole. SEEMS LIKE FEAR PROMOTION IS HOLLYWOOD\\'S NORM THIS DAYS, especially when coming to thrillers which is the most \"on demand\" motion picture genre for past 2 decades or so = most viewed, best way to try influence the society as a whole. such levels of violence are depicted in this 2 features of morally and \"ethical\" people, that it gives a new much needed meaning to \"anti-heroes\" figures. make no mistake , this is NOT \"DEXTER\" which was meant to be high-quality entertainment.STOP SELLING \"FEAR\" please, the world would be a better place without it and the dollars made of it.<br /><br />the opening scene and generally the first 10 minutes really give a frightful picture of an Erroll Babbage that is CLEARLLY suffering of sexual frustration. the way he handles the black male is very disturbing if not outright racist(for sure a \"cliche\" at least) ( in real life someone would probably get a beating for it, you will see what i mean). the second scene ( with Claire Danes\\'s character present) is even more extreme. at that point i realized, in my opinion that Erroll Babbage is a very dangerous individual to people around him.how many people, that have seen or will see this movie, have never been \"hold down\"(regarding BOTH sexes) out of self, COMMON gratification!?.typically the movie gives an extreme CRIMINAL case(that unfortunately did, is and will likely happen again sometime , somewhere) BUT fingers everyone else indirectly as well as \"you could become that\", etc. anyone that is familiar with Sigmund Freud and Jung will know very well that sexuality is not something to be judged let alone \"asses\" , by such fanatical \"hero\" here. SAFE sex in its many forms IS healthy and not some evil that apparently Richard Gere character is obsessed with , on his way for some sexual \"crusade\". have we not learned anything from the abundant recent scandals involving priests and young boys!? or for how long an American teenager can see extreme violence on \"pg-13\" but he can not even see a woman breast until \"R-18\"!?!?( yet the industry targets them with this VERY SAME sexual perversions like \"american pie\" series for example).raise the kids tester-one levels but frustrate them and drive them underground in developing fetishes to UNhealthy EXTREMES!? all sexual activities(upon MUTUAL acceptance) integrates individuals better then some \"rightous\" nut-case, THAT blames his misfortunes and shortcomings on \"the lives of others\"( a new German movie that would work great in comparing this 2 distinct and world apart features on the very same subject).here, like in that movie, you will probably appreciate the actors for well portraying the opposite of what they should have been.<br /><br />i am very disappointed with Richard Gere especially after the recent \" hunting party\", a feature where he really shines and about a more realistic \"hero\"( after real facts as well).but then it just reminds me that all those people are only actors that get paid to play someone\\'s political and social agenda. \"the flock\" and \"untraceable\" 2 heads of the same hidden beast)))it just reminds you, if know anyone with similar views on the subject as a WHOLE, as Erroll Babbage has those here, to stay clear of them for THEIR own safety.they would kill my family faster then any 0.00001 chances of Paul Jerrod in anyone\\'s life would...<br /><br />in the end i recommend this to anyone thinking negative here about MY \"assesment\" of this particular movie ( and \"untraceable\" actually), so you can likely have similar thoughts as i did. nothing sweeter then a propagandistic movie shooting itself in the \"foot\".))))for once i agree with the rating, this is not a feature for teenagers or kids; simply because at best would confuse them even more then the \"common\" belief of \"money+fame+fashion\" and how that relates to sexuality. \"scream\" series and movies as such AT LEAST have a defined entertainment value(even if a dumb one in my opinion). but this one is just another \"trust me i know what is good for you\" deeply (not so well done i might add) subliminal messages.',\n",
              "       'If you like films that ramble with little plot exposition spiced with kinky sex, this film is for you. On the plus side the lead actor/actress (newcomer transsexual) does have an interesting screen presence, but not enough to add up to much more than a mildly interesting movie - if that. Essentially this film is about 3 social outcasts (transexual prostitute, male hustler, and Russian,gay immigrant) who somehow have developed a bond. Why is not clear. We are expected to accept these misfits are at the core basic honest people who have the ability to love while they hustle their bodies on the street. Right!! And Anna Nicole Smith was truly in love with her ninety something sugar daddy! The filmmaker shows a gritty, unpleasant side of life while wanting us to believe underneath it all these seriously damaged people are really quite normal to the extent they have a menage a trois which helps them through life. Quite a fantasy, but unfortunately portrayed here as real look of life on the wild side. In sum, no plot, no truth and no real reason to spend much time here. Unless of course you just like to revel in the kink!!!',\n",
              "       \"As interesting as a sheet of cardboard, this dispensable period piece has little going for it. It's overly wordy and fails spectacularly to evoke the tension and fear that the real-life characters must have felt as they dodged the French Revolution's fickle hand of justice. Eric Rohmer at 82? It shows.\"],\n",
              "      dtype=object)"
            ]
          },
          "metadata": {},
          "execution_count": 26
        }
      ]
    },
    {
      "cell_type": "code",
      "source": [
        "label"
      ],
      "metadata": {
        "colab": {
          "base_uri": "https://localhost:8080/"
        },
        "id": "v84ANCFU4zhp",
        "outputId": "61e85092-c550-4ac4-e03e-b14e1053aad6"
      },
      "execution_count": 27,
      "outputs": [
        {
          "output_type": "execute_result",
          "data": {
            "text/plain": [
              "array([[1, 0],\n",
              "       [1, 0],\n",
              "       [1, 0],\n",
              "       ...,\n",
              "       [1, 0],\n",
              "       [1, 0],\n",
              "       [1, 0]], dtype=uint8)"
            ]
          },
          "metadata": {},
          "execution_count": 27
        }
      ]
    },
    {
      "cell_type": "code",
      "source": [
        "from sklearn.model_selection import train_test_split\n",
        "\n",
        "text = df['text'].values\n",
        "y = df[['neg', 'pos']].values\n",
        "text_train, text_test, y_train, y_test = train_test_split(text, y, test_size = 0.2)"
      ],
      "metadata": {
        "id": "8gbC2bSk4433"
      },
      "execution_count": 28,
      "outputs": []
    },
    {
      "cell_type": "code",
      "source": [
        "from tensorflow.keras.preprocessing.text import Tokenizer\n",
        "from tensorflow.keras.preprocessing.sequence import pad_sequences\n",
        "\n",
        "# tokenizer\n",
        "tokenizer = Tokenizer(num_words = 280617, oov_token = '-')\n",
        "tokenizer.fit_on_texts(text_train)\n",
        "tokenizer.fit_on_texts(text_test)\n",
        "\n",
        "# sequences\n",
        "seq_train = tokenizer.texts_to_sequences(text_train)\n",
        "seq_test = tokenizer.texts_to_sequences(text_test)\n",
        "\n",
        "# padding\n",
        "pad_train = pad_sequences(seq_train, maxlen = 300, padding = 'post', truncating = 'post')\n",
        "\n",
        "pad_test = pad_sequences(seq_test, maxlen = 300, padding = 'post', truncating = 'post')"
      ],
      "metadata": {
        "id": "V4ZvnZXy5R6C"
      },
      "execution_count": 29,
      "outputs": []
    },
    {
      "cell_type": "code",
      "source": [
        "# embedding\n",
        "from tensorflow.keras import layers\n",
        "from tensorflow.keras import Sequential\n",
        "\n",
        "model = Sequential([layers.Embedding(280617, 64, input_length = 300),\n",
        "                    layers.LSTM(64, dropout = 0.1),\n",
        "                    layers.Dense(128, activation = 'relu'),\n",
        "                    layers.Dense(64, activation = 'relu'),\n",
        "                    layers.Dense(2, activation = 'sigmoid')\n",
        "                    ])\n",
        "\n",
        "model.summary()"
      ],
      "metadata": {
        "colab": {
          "base_uri": "https://localhost:8080/"
        },
        "id": "UBofxA8X6k_m",
        "outputId": "df1eacb1-ed88-472b-b703-477c4ab9ec57"
      },
      "execution_count": 30,
      "outputs": [
        {
          "output_type": "stream",
          "name": "stdout",
          "text": [
            "Model: \"sequential_1\"\n",
            "_________________________________________________________________\n",
            " Layer (type)                Output Shape              Param #   \n",
            "=================================================================\n",
            " embedding_1 (Embedding)     (None, 300, 64)           17959488  \n",
            "                                                                 \n",
            " lstm_1 (LSTM)               (None, 64)                33024     \n",
            "                                                                 \n",
            " dense_3 (Dense)             (None, 128)               8320      \n",
            "                                                                 \n",
            " dense_4 (Dense)             (None, 64)                8256      \n",
            "                                                                 \n",
            " dense_5 (Dense)             (None, 2)                 130       \n",
            "                                                                 \n",
            "=================================================================\n",
            "Total params: 18,009,218\n",
            "Trainable params: 18,009,218\n",
            "Non-trainable params: 0\n",
            "_________________________________________________________________\n"
          ]
        }
      ]
    },
    {
      "cell_type": "code",
      "source": [
        "# model training\n",
        "model.compile(loss = 'binary_crossentropy', optimizer = 'adam', metrics = ['accuracy'])\n",
        "\n",
        "history = model.fit(pad_train, \n",
        "                    y_train, \n",
        "                    batch_size = 128, \n",
        "                    epochs = 30,\n",
        "                    validation_data = (pad_test, y_test),\n",
        "                    verbose = 2,\n",
        "                    callbacks = [callbacks])"
      ],
      "metadata": {
        "colab": {
          "base_uri": "https://localhost:8080/"
        },
        "id": "jPMmp_8i7acE",
        "outputId": "ba8d32bd-0cdb-405a-bcd4-8a90f2e15d93"
      },
      "execution_count": 31,
      "outputs": [
        {
          "output_type": "stream",
          "name": "stdout",
          "text": [
            "Epoch 1/30\n",
            "157/157 - 102s - loss: 0.6960 - accuracy: 0.5107 - val_loss: 0.6891 - val_accuracy: 0.5296 - 102s/epoch - 653ms/step\n",
            "Epoch 2/30\n",
            "157/157 - 98s - loss: 0.6624 - accuracy: 0.5644 - val_loss: 0.6682 - val_accuracy: 0.5556 - 98s/epoch - 623ms/step\n",
            "Epoch 3/30\n",
            "157/157 - 101s - loss: 0.5950 - accuracy: 0.6120 - val_loss: 0.7623 - val_accuracy: 0.7698 - 101s/epoch - 644ms/step\n",
            "Epoch 4/30\n",
            "157/157 - 103s - loss: 0.5679 - accuracy: 0.6787 - val_loss: 0.4829 - val_accuracy: 0.8116 - 103s/epoch - 655ms/step\n",
            "Epoch 5/30\n",
            "157/157 - 104s - loss: 0.5974 - accuracy: 0.6571 - val_loss: 0.6880 - val_accuracy: 0.5290 - 104s/epoch - 659ms/step\n",
            "Epoch 6/30\n",
            "157/157 - 95s - loss: 0.6094 - accuracy: 0.6029 - val_loss: 0.6913 - val_accuracy: 0.5652 - 95s/epoch - 605ms/step\n",
            "Epoch 7/30\n",
            "157/157 - 95s - loss: 0.5953 - accuracy: 0.6385 - val_loss: 0.6901 - val_accuracy: 0.5694 - 95s/epoch - 605ms/step\n",
            "Epoch 8/30\n",
            "157/157 - 93s - loss: 0.6566 - accuracy: 0.5934 - val_loss: 0.6908 - val_accuracy: 0.5250 - 93s/epoch - 593ms/step\n",
            "Epoch 9/30\n",
            "157/157 - 93s - loss: 0.6183 - accuracy: 0.6133 - val_loss: 0.6241 - val_accuracy: 0.6326 - 93s/epoch - 593ms/step\n",
            "Epoch 10/30\n",
            "157/157 - 93s - loss: 0.5769 - accuracy: 0.6306 - val_loss: 0.7038 - val_accuracy: 0.5774 - 93s/epoch - 595ms/step\n",
            "Epoch 11/30\n",
            "157/157 - 92s - loss: 0.5928 - accuracy: 0.6133 - val_loss: 0.8085 - val_accuracy: 0.5426 - 92s/epoch - 588ms/step\n",
            "Epoch 12/30\n",
            "157/157 - 93s - loss: 0.5395 - accuracy: 0.6387 - val_loss: 0.6835 - val_accuracy: 0.6108 - 93s/epoch - 591ms/step\n",
            "Epoch 13/30\n",
            "157/157 - 98s - loss: 0.5742 - accuracy: 0.6760 - val_loss: 0.6989 - val_accuracy: 0.5388 - 98s/epoch - 622ms/step\n",
            "Epoch 14/30\n",
            "157/157 - 92s - loss: 0.5682 - accuracy: 0.6484 - val_loss: 0.5626 - val_accuracy: 0.7068 - 92s/epoch - 583ms/step\n",
            "Epoch 15/30\n",
            "157/157 - 91s - loss: 0.2738 - accuracy: 0.8970 - val_loss: 0.4024 - val_accuracy: 0.8486 - 91s/epoch - 581ms/step\n",
            "Epoch 16/30\n",
            "157/157 - 92s - loss: 0.1485 - accuracy: 0.9473 - val_loss: 0.4008 - val_accuracy: 0.8622 - 92s/epoch - 584ms/step\n",
            "Epoch 17/30\n",
            "\n",
            "Traning data berhenti, tingkat akurasi > 95%\n",
            "157/157 - 91s - loss: 0.0854 - accuracy: 0.9746 - val_loss: 0.4265 - val_accuracy: 0.8682 - 91s/epoch - 578ms/step\n"
          ]
        }
      ]
    },
    {
      "cell_type": "code",
      "source": [
        "# model accuracy\n",
        "import matplotlib.pyplot as plt\n",
        "\n",
        "plt.plot(history.history['accuracy'])\n",
        "plt.plot(history.history['val_accuracy'])\n",
        "plt.title('Model Accuracy')\n",
        "plt.ylabel('accuracy')\n",
        "plt.xlabel('epoch')\n",
        "plt.legend(['train', 'test'], loc = 'upper left')\n",
        "plt.show()"
      ],
      "metadata": {
        "colab": {
          "base_uri": "https://localhost:8080/",
          "height": 295
        },
        "id": "8RFw2rJA9hxJ",
        "outputId": "3a5683fa-2435-429c-a4f5-b90e5994701d"
      },
      "execution_count": 32,
      "outputs": [
        {
          "output_type": "display_data",
          "data": {
            "text/plain": [
              "<Figure size 432x288 with 1 Axes>"
            ],
            "image/png": "[encoded data removed]"
          },
          "metadata": {
            "needs_background": "light"
          }
        }
      ]
    },
    {
      "cell_type": "code",
      "source": [
        "# model loss\n",
        "import matplotlib.pyplot as plt\n",
        "\n",
        "plt.plot(history.history['loss'])\n",
        "plt.plot(history.history['val_loss'])\n",
        "plt.title('Model Loss')\n",
        "plt.ylabel('accuracy')\n",
        "plt.xlabel('epoch')\n",
        "plt.legend(['train', 'test'], loc = 'upper left')\n",
        "plt.show()"
      ],
      "metadata": {
        "colab": {
          "base_uri": "https://localhost:8080/",
          "height": 295
        },
        "id": "TmRKSXXG-0qi",
        "outputId": "31ac4192-4ed8-425e-9947-411d72aa9f72"
      },
      "execution_count": 33,
      "outputs": [
        {
          "output_type": "display_data",
          "data": {
            "text/plain": [
              "<Figure size 432x288 with 1 Axes>"
            ],
            "image/png": "[encoded data removed]"
          },
          "metadata": {
            "needs_background": "light"
          }
        }
      ]
    }
  ]
}